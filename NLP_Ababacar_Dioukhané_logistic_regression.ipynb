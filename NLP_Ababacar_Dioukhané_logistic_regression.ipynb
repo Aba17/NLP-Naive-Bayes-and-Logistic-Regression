{
  "cells": [
    {
      "cell_type": "markdown",
      "metadata": {
        "id": "view-in-github",
        "colab_type": "text"
      },
      "source": [
        "<a href=\"https://colab.research.google.com/github/Aba17/NLP-Naive-Bayes-and-Logistic-Regression/blob/main/NLP_Ababacar_Dioukhan%C3%A9_logistic_regression.ipynb\" target=\"_parent\"><img src=\"https://colab.research.google.com/assets/colab-badge.svg\" alt=\"Open In Colab\"/></a>"
      ]
    },
    {
      "cell_type": "markdown",
      "metadata": {
        "id": "nH3b_ThGTIcn"
      },
      "source": [
        "In this second part of the lab, we will implement a language identifier trained on the same data, but using Logistic Regression instead of Naive Bayes."
      ]
    },
    {
      "cell_type": "code",
      "execution_count": 3,
      "metadata": {
        "id": "t6McbIEgTIcp"
      },
      "outputs": [],
      "source": [
        "import io, sys, math\n",
        "import numpy as np\n",
        "from collections import defaultdict"
      ]
    },
    {
      "cell_type": "markdown",
      "metadata": {
        "id": "HvUKnz2YTIcq"
      },
      "source": [
        "This function is used to build the dictionary, or vocabulary, which is a mapping from strings (or words) to integers (or indices). This will allow to build vector representations of documents. "
      ]
    },
    {
      "cell_type": "code",
      "execution_count": 4,
      "metadata": {
        "id": "o0as30jUTIcq"
      },
      "outputs": [],
      "source": [
        "def build_dict(filename, threshold=1):\n",
        "    fin = io.open(filename, 'r', encoding='utf-8')\n",
        "    word_dict, label_dict = {}, {}\n",
        "    counts = defaultdict(lambda: 0)\n",
        "    for line in fin:\n",
        "        tokens = line.split()\n",
        "        label = tokens[0]\n",
        "\n",
        "        if not label in label_dict:\n",
        "            label_dict[label] = len(label_dict)\n",
        "\n",
        "        for w in tokens[1:]:\n",
        "            counts[w] += 1\n",
        "            \n",
        "    for k, v in counts.items():\n",
        "        if v > threshold:\n",
        "            word_dict[k] = len(word_dict)\n",
        "    return word_dict, label_dict"
      ]
    },
    {
      "cell_type": "code",
      "source": [
        ""
      ],
      "metadata": {
        "id": "akkDde0eEAmw"
      },
      "execution_count": null,
      "outputs": []
    },
    {
      "cell_type": "markdown",
      "metadata": {
        "id": "jfQDSgUHTIcq"
      },
      "source": [
        "This function is used to load the training dataset, and build vector representations of the training examples. In particular, a document or sentence is represented as a bag of words. Each example correspond to a sparse vector ` x` of dimension `V`, where `V` is the size of the vocabulary. The element `j` of the vector `x` is the number of times the word `j` appears in the document."
      ]
    },
    {
      "cell_type": "code",
      "execution_count": 5,
      "metadata": {
        "id": "cFKhcrg-TIcr"
      },
      "outputs": [],
      "source": [
        "def load_data(filename, word_dict, label_dict):\n",
        "    fin = io.open(filename, 'r', encoding='utf-8')\n",
        "    data = []\n",
        "    dim = len(word_dict)\n",
        "    for line in fin:\n",
        "        tokens = line.split()\n",
        "        label = tokens[0]\n",
        "\n",
        "        yi = label_dict[label]\n",
        "        xi = np.zeros(dim)\n",
        "        for word in tokens[1:]:\n",
        "            if word in word_dict:\n",
        "                wid = word_dict[word]\n",
        "                xi[wid] += 1.0\n",
        "        data.append((yi, xi))\n",
        "    return data"
      ]
    },
    {
      "cell_type": "markdown",
      "metadata": {
        "id": "35BJs2MeTIcr"
      },
      "source": [
        "First, let's implement the softmax function. Don't forget numerical stability!"
      ]
    },
    {
      "cell_type": "code",
      "execution_count": 6,
      "metadata": {
        "id": "n-FAUk8ATIcr"
      },
      "outputs": [],
      "source": [
        "def softmax(x):\n",
        "    newx=x-np.max(x)\n",
        "    return np.exp(newx) / np.sum(np.exp(newx))"
      ]
    },
    {
      "cell_type": "markdown",
      "metadata": {
        "id": "02yyqmxYTIcs"
      },
      "source": [
        "Now, let's implement the main training loop, by using stochastic gradient descent. The function will iterate over the examples of the training set. For each example, we will first compute the loss, before computing the gradient and performing the update."
      ]
    },
    {
      "cell_type": "code",
      "execution_count": 89,
      "metadata": {
        "id": "uWHP5LWvTIcs"
      },
      "outputs": [],
      "source": [
        "def sgd(w, data, niter):\n",
        "    lr=0.2\n",
        "    nlabels, dim = w.shape\n",
        "    # Epochs\n",
        "    for iter in range(niter):\n",
        "        loss=0\n",
        "       # Shuffling data\n",
        "        np.random.shuffle(data)\n",
        "       # Loop\n",
        "        for label,x in data:\n",
        "          pred=softmax(w@x.T)\n",
        "          loss+=np.log(pred[label])\n",
        "          grad=compute_gradient(x,pred,label)\n",
        "          w-=lr*grad\n",
        "\n",
        "    return w"
      ]
    },
    {
      "cell_type": "markdown",
      "metadata": {
        "id": "1ZcvLbTUTIcs"
      },
      "source": [
        "The next function will predict the most probable label corresponding to example `x`, given the trained classifier `w`."
      ]
    },
    {
      "cell_type": "code",
      "source": [
        "def compute_loss(w, x, y_true):\n",
        "    ##### WRITE YOUR CODE HERE #####\n",
        "    n = len(x)# Length of x\n",
        "    y_pred = softmax(w@x.T)"
      ],
      "metadata": {
        "id": "lLN5dU4uP6gY"
      },
      "execution_count": 90,
      "outputs": []
    },
    {
      "cell_type": "code",
      "source": [
        "def compute_gradient(x,pred, y_true):\n",
        "  p=pred\n",
        "  p[y_true]=p[y_true]-1\n",
        "  return p.reshape(-1, 1)*x.reshape((1,-1))"
      ],
      "metadata": {
        "id": "rFlZ2YKlRE9y"
      },
      "execution_count": 91,
      "outputs": []
    },
    {
      "cell_type": "code",
      "execution_count": 92,
      "metadata": {
        "id": "wVmaBf6GTIcs"
      },
      "outputs": [],
      "source": [
        "def predict(w, x):\n",
        "  # print(f\"Shapes :x {x.T.shape},   www: {w.shape}\")\n",
        "  pred=softmax(w@x.T)\n",
        "  return np.argmax(pred)\n",
        "    "
      ]
    },
    {
      "cell_type": "markdown",
      "metadata": {
        "id": "0RbNTRP8TIcs"
      },
      "source": [
        "Finally, this function will compute the accuracy of a trained classifier `w` on a validation set."
      ]
    },
    {
      "cell_type": "code",
      "execution_count": 93,
      "metadata": {
        "id": "a-WMXwoCTIct"
      },
      "outputs": [],
      "source": [
        "def compute_accuracy(w, valid_data):\n",
        "  accuracy = 0.0\n",
        "  for label,x in valid_data:\n",
        "        predict_label=predict(w,x)\n",
        "        # print(f\"Pred : {predict_label}, True : {label}\")\n",
        "        if predict_label==label:\n",
        "          accuracy+=1\n",
        "  return (100*accuracy)/len(valid_data)\n",
        "    ## FILL CODE"
      ]
    },
    {
      "cell_type": "code",
      "source": [
        "word_dict, label_dict = build_dict(\"/content/drive/MyDrive/NLP_Week_1_Labs_2022/session1/train1.txt\")\n",
        "train_data = load_data(\"/content/drive/MyDrive/NLP_Week_1_Labs_2022/session1/train1.txt\", word_dict, label_dict)"
      ],
      "metadata": {
        "id": "r_cNQQHP-NVq"
      },
      "execution_count": 94,
      "outputs": []
    },
    {
      "cell_type": "code",
      "source": [
        "label_dict"
      ],
      "metadata": {
        "colab": {
          "base_uri": "https://localhost:8080/"
        },
        "id": "8mrPw1oYEDNZ",
        "outputId": "8510b53d-51c3-42c0-963c-58218adb19b5"
      },
      "execution_count": 95,
      "outputs": [
        {
          "output_type": "execute_result",
          "data": {
            "text/plain": [
              "{'__label__de': 0,\n",
              " '__label__en': 4,\n",
              " '__label__eo': 7,\n",
              " '__label__es': 5,\n",
              " '__label__fr': 9,\n",
              " '__label__hu': 1,\n",
              " '__label__it': 3,\n",
              " '__label__pt': 8,\n",
              " '__label__ru': 2,\n",
              " '__label__tr': 6}"
            ]
          },
          "metadata": {},
          "execution_count": 95
        }
      ]
    },
    {
      "cell_type": "code",
      "source": [
        "# word_dict"
      ],
      "metadata": {
        "id": "65kjbe_qEINU"
      },
      "execution_count": 96,
      "outputs": []
    },
    {
      "cell_type": "code",
      "source": [
        ""
      ],
      "metadata": {
        "id": "5xVebNE4EIGc"
      },
      "execution_count": 96,
      "outputs": []
    },
    {
      "cell_type": "code",
      "source": [
        "p=train_data[:5]\n",
        "print(\"Avant\",p)\n",
        "np.random.shuffle(p)\n",
        "print(\"Apres\",p)"
      ],
      "metadata": {
        "colab": {
          "base_uri": "https://localhost:8080/"
        },
        "id": "0H8zA1b2-Toh",
        "outputId": "e95890cb-a5bc-42dd-e049-d66c301a58b3"
      },
      "execution_count": 97,
      "outputs": [
        {
          "output_type": "stream",
          "name": "stdout",
          "text": [
            "Avant [(0, array([1., 1., 1., ..., 0., 0., 0.])), (0, array([0., 0., 0., ..., 0., 0., 0.])), (1, array([0., 0., 0., ..., 0., 0., 0.])), (0, array([0., 0., 0., ..., 0., 0., 0.])), (2, array([0., 0., 0., ..., 0., 0., 0.]))]\n",
            "Apres [(0, array([1., 1., 1., ..., 0., 0., 0.])), (0, array([0., 0., 0., ..., 0., 0., 0.])), (1, array([0., 0., 0., ..., 0., 0., 0.])), (2, array([0., 0., 0., ..., 0., 0., 0.])), (0, array([0., 0., 0., ..., 0., 0., 0.]))]\n"
          ]
        }
      ]
    },
    {
      "cell_type": "code",
      "execution_count": 98,
      "metadata": {
        "id": "IZLTrPxETIct",
        "colab": {
          "base_uri": "https://localhost:8080/"
        },
        "outputId": "2f5e4d7c-c9c7-4fcd-de9d-3558af2b7e71"
      },
      "outputs": [
        {
          "output_type": "stream",
          "name": "stdout",
          "text": [
            "\n",
            "** Logistic Regression **\n",
            "\n",
            "\n",
            "Validation accuracy: 92.900\n",
            "\n"
          ]
        }
      ],
      "source": [
        "print(\"\")\n",
        "print(\"** Logistic Regression **\")\n",
        "print(\"\")\n",
        "\n",
        "word_dict, label_dict = build_dict(\"/content/drive/MyDrive/NLP_Week_1_Labs_2022/session1/train1.txt\")\n",
        "train_data = load_data(\"/content/drive/MyDrive/NLP_Week_1_Labs_2022/session1/train1.txt\", word_dict, label_dict)\n",
        "valid_data = load_data(\"/content/drive/MyDrive/NLP_Week_1_Labs_2022/session1/valid1.txt\", word_dict, label_dict)\n",
        "\n",
        "nlabels = len(label_dict)\n",
        "dim = len(word_dict)\n",
        "w = np.zeros([nlabels, dim])\n",
        "\n",
        "w = sgd(w, train_data, 10)\n",
        "print(\"\")\n",
        "print(\"Validation accuracy: %.3f\" % compute_accuracy(w, valid_data))\n",
        "print(\"\")"
      ]
    },
    {
      "cell_type": "code",
      "source": [
        "from google.colab import drive\n",
        "drive.mount('/content/drive')"
      ],
      "metadata": {
        "colab": {
          "base_uri": "https://localhost:8080/"
        },
        "id": "GDgipT75rWQB",
        "outputId": "9c271485-10c3-4094-fadc-d52054b39150"
      },
      "execution_count": 99,
      "outputs": [
        {
          "output_type": "stream",
          "name": "stdout",
          "text": [
            "Drive already mounted at /content/drive; to attempt to forcibly remount, call drive.mount(\"/content/drive\", force_remount=True).\n"
          ]
        }
      ]
    },
    {
      "cell_type": "code",
      "source": [
        ""
      ],
      "metadata": {
        "id": "ZzXq2gnbrSVv"
      },
      "execution_count": null,
      "outputs": []
    }
  ],
  "metadata": {
    "kernelspec": {
      "display_name": "Python 3",
      "language": "python",
      "name": "python3"
    },
    "language_info": {
      "codemirror_mode": {
        "name": "ipython",
        "version": 3
      },
      "file_extension": ".py",
      "mimetype": "text/x-python",
      "name": "python",
      "nbconvert_exporter": "python",
      "pygments_lexer": "ipython3",
      "version": "3.6.2+"
    },
    "colab": {
      "name": "NLP_Ababacar_Dioukhané_logistic_regression.ipynb",
      "provenance": [],
      "include_colab_link": true
    }
  },
  "nbformat": 4,
  "nbformat_minor": 0
}