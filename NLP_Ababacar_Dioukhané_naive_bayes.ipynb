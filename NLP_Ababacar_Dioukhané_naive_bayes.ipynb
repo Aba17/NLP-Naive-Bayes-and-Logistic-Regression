{
  "cells": [
    {
      "cell_type": "markdown",
      "metadata": {
        "id": "view-in-github",
        "colab_type": "text"
      },
      "source": [
        "<a href=\"https://colab.research.google.com/github/Aba17/NLP-Naive-Bayes-and-Logistic-Regression/blob/main/NLP_Ababacar_Dioukhan%C3%A9_naive_bayes.ipynb\" target=\"_parent\"><img src=\"https://colab.research.google.com/assets/colab-badge.svg\" alt=\"Open In Colab\"/></a>"
      ]
    },
    {
      "cell_type": "markdown",
      "metadata": {
        "id": "KkbPoHZ1TS9f"
      },
      "source": [
        "The goal of this lab is to implement a language identifier (LID).\n",
        "\n",
        "Our first model will be based on Naive Bayes."
      ]
    },
    {
      "cell_type": "code",
      "execution_count": 1,
      "metadata": {
        "id": "5_k9oNcgTS9g"
      },
      "outputs": [],
      "source": [
        "import io, sys, math, re\n",
        "from collections import defaultdict"
      ]
    },
    {
      "cell_type": "markdown",
      "metadata": {
        "id": "XidNpGqkTS9h"
      },
      "source": [
        "The next function is used to load the data. Each line of the data consist of a label (corresponding to a language), followed by some text, written in that language. Here is an example of data:\n",
        "\n",
        "```__label__de Zur Namensdeutung gibt es mehrere Varianten.```\n"
      ]
    },
    {
      "cell_type": "code",
      "execution_count": 2,
      "metadata": {
        "id": "qv_U14RyTS9i"
      },
      "outputs": [],
      "source": [
        "def load_data(filename):\n",
        "    fin = io.open(filename, 'r', encoding='utf-8')\n",
        "    data = []\n",
        "    for line in fin:\n",
        "        tokens = line.split()\n",
        "        data.append((tokens[0], tokens[1:]))\n",
        "    return data"
      ]
    },
    {
      "cell_type": "code",
      "source": [
        "from google.colab import drive\n",
        "drive.mount('/content/drive')"
      ],
      "metadata": {
        "colab": {
          "base_uri": "https://localhost:8080/"
        },
        "id": "jBVpbR4WUHww",
        "outputId": "8c1d07fb-cb1f-4b2d-b9c4-a8cc72fd2ece"
      },
      "execution_count": 7,
      "outputs": [
        {
          "output_type": "stream",
          "name": "stdout",
          "text": [
            "Drive already mounted at /content/drive; to attempt to forcibly remount, call drive.mount(\"/content/drive\", force_remount=True).\n"
          ]
        }
      ]
    },
    {
      "cell_type": "markdown",
      "metadata": {
        "id": "60XEFMD5TS9i"
      },
      "source": [
        "You can now try loading the first dataset `train1.txt` and look what examples look like."
      ]
    },
    {
      "cell_type": "code",
      "execution_count": 6,
      "metadata": {
        "id": "LDlUgE2CTS9j",
        "colab": {
          "base_uri": "https://localhost:8080/"
        },
        "outputId": "b805ddba-536d-4a52-b6ca-2b8429763c65"
      },
      "outputs": [
        {
          "output_type": "stream",
          "name": "stdout",
          "text": [
            "('__label__de', ['Ich', 'würde', 'alles', 'tun,', 'um', 'dich', 'zu', 'beschützen.'])\n"
          ]
        }
      ],
      "source": [
        "data = load_data(\"/content/drive/MyDrive/NLP_Week_1_Labs_2022/session1/train1.txt\")\n",
        "print(data[0])"
      ]
    },
    {
      "cell_type": "markdown",
      "metadata": {
        "id": "HL7esjUWTS9j"
      },
      "source": [
        "Next, we will start implementing the Naive Bayes method. This technique is based on word counts, and we thus need to start by implementing a function to count the words and labels of our training set.\n",
        "\n",
        "`n_examples` is the total number of examples\n",
        "\n",
        "`n_words_per_label` is the total number of words for a given label\n",
        "\n",
        "`label_counts` is the number of times a given label appears in the training data\n",
        "\n",
        "`word_counts` is the number of times a word appears with a given label"
      ]
    },
    {
      "cell_type": "code",
      "execution_count": 13,
      "metadata": {
        "id": "dzUNwELlTS9k"
      },
      "outputs": [],
      "source": [
        "def count_words(data):\n",
        "    n_examples = 0\n",
        "    n_words_per_label = defaultdict(lambda: 0)\n",
        "    label_counts = defaultdict(lambda: 0)\n",
        "    word_counts = defaultdict(lambda: defaultdict(lambda: 0.0))\n",
        "\n",
        "    for example in data:\n",
        "        label, sentence = example\n",
        "        if label not in label_counts:\n",
        "          label_counts[label]=0\n",
        "        else:\n",
        "          label_counts[label]+=1\n",
        "        \n",
        "        if label not in n_words_per_label:\n",
        "          n_words_per_label[label]=len(sentence)\n",
        "        else:\n",
        "          n_words_per_label[label]+=len(sentence)\n",
        "        for word in sentence:\n",
        "          if word_counts[word] and word_counts[word][label]:\n",
        "            word_counts[word][label]+=1\n",
        "          else:\n",
        "            word_counts[word][label]=1\n",
        "        \n",
        "        n_examples+=1\n",
        "\n",
        "    return {'label_counts': label_counts, \n",
        "            'word_counts': word_counts, \n",
        "            'n_examples': n_examples, \n",
        "            'n_words_per_label': n_words_per_label}"
      ]
    },
    {
      "cell_type": "code",
      "source": [
        "par=count_words(data)"
      ],
      "metadata": {
        "id": "cDDo2TSqUlRT"
      },
      "execution_count": 30,
      "outputs": []
    },
    {
      "cell_type": "code",
      "source": [
        "par['label_counts']"
      ],
      "metadata": {
        "colab": {
          "base_uri": "https://localhost:8080/"
        },
        "id": "X4sSbCRdcxOH",
        "outputId": "28a15189-5538-4e3f-ee03-ece5c941ed3a"
      },
      "execution_count": 60,
      "outputs": [
        {
          "output_type": "execute_result",
          "data": {
            "text/plain": [
              "defaultdict(<function __main__.count_words.<locals>.<lambda>>,\n",
              "            {'__label__de': 827,\n",
              "             '__label__en': 2136,\n",
              "             '__label__eo': 1019,\n",
              "             '__label__es': 563,\n",
              "             '__label__fr': 649,\n",
              "             '__label__hu': 431,\n",
              "             '__label__it': 1326,\n",
              "             '__label__pt': 577,\n",
              "             '__label__ru': 1270,\n",
              "             '__label__tr': 1192})"
            ]
          },
          "metadata": {},
          "execution_count": 60
        }
      ]
    },
    {
      "cell_type": "markdown",
      "metadata": {
        "id": "wYZtS-WgTS9l"
      },
      "source": [
        "Next, using the word and label counts from the previous function, we can implement the prediction function.\n",
        "\n",
        "Here, `mu` is a regularization parameter (Laplace smoothing), and `sentence` is the list of words corresponding to the test example."
      ]
    },
    {
      "cell_type": "code",
      "execution_count": 62,
      "metadata": {
        "id": "dGm_GZ4BTS9m"
      },
      "outputs": [],
      "source": [
        "def predict(sentence, mu, label_counts, word_counts, n_examples, n_words_per_label,V):\n",
        "    best_label = None\n",
        "    best_score = float('-inf')\n",
        "    #Prediction\n",
        "    for label in label_counts.copy():\n",
        "      score=0.0\n",
        "      # score=label_counts[label]/n_examples\n",
        "      for word in sentence:\n",
        "        score +=((mu+word_counts[word][label])/(mu*V+n_words_per_label[label]))\n",
        "      if score>best_score:\n",
        "        best_score=score\n",
        "        best_label=label\n",
        "    # print(label)\n",
        "    return best_label"
      ]
    },
    {
      "cell_type": "markdown",
      "metadata": {
        "id": "d_yU-xV2TS9m"
      },
      "source": [
        "The next function will be used to evaluate the Naive Bayes model on a validation set. It computes the accuracy for a particular regularization parameter `mu`."
      ]
    },
    {
      "cell_type": "code",
      "execution_count": 65,
      "metadata": {
        "id": "tNniEXk5TS9n"
      },
      "outputs": [],
      "source": [
        "def compute_accuracy(valid_data, mu, counts):\n",
        "    accuracy = 0.0\n",
        "    \n",
        "    label_counts=counts['label_counts'] \n",
        "    word_counts=counts['word_counts']\n",
        "    n_examples=counts[ 'n_examples']\n",
        "    n_words_per_label=counts['n_words_per_label']\n",
        "    V=0\n",
        "    # The length of the vocabulary\n",
        "    for word in word_counts:\n",
        "      for label in word_counts[word]:\n",
        "        V+=word_counts[word][label]\n",
        "    \n",
        "    for label, sentence in valid_data:\n",
        "        predict_label=predict(sentence, mu, label_counts, word_counts, n_examples, n_words_per_label,V)\n",
        "        # print(f\"Pred : {predict_label}, True : {label}\")\n",
        "        if predict_label==label:\n",
        "          accuracy+=1\n",
        "    return (100*accuracy)/len(valid_data)"
      ]
    },
    {
      "cell_type": "code",
      "execution_count": 66,
      "metadata": {
        "id": "5tglCRqjTS9n",
        "colab": {
          "base_uri": "https://localhost:8080/"
        },
        "outputId": "12a3948c-6816-4be3-aba5-89f84db684df"
      },
      "outputs": [
        {
          "output_type": "stream",
          "name": "stdout",
          "text": [
            "\n",
            "** Naive Bayes **\n",
            "\n",
            "Validation accuracy: 82.400\n",
            "\n"
          ]
        }
      ],
      "source": [
        "print(\"\")\n",
        "print(\"** Naive Bayes **\")\n",
        "print(\"\")\n",
        "\n",
        "mu = 1.0\n",
        "train_data = load_data(\"/content/drive/MyDrive/NLP_Week_1_Labs_2022/session1/train1.txt\")\n",
        "valid_data = load_data(\"/content/drive/MyDrive/NLP_Week_1_Labs_2022/session1/valid1.txt\")\n",
        "counts = count_words(train_data)\n",
        "\n",
        "print(\"Validation accuracy: %.3f\" % compute_accuracy(valid_data, mu, counts))\n",
        "print(\"\")"
      ]
    },
    {
      "cell_type": "code",
      "execution_count": null,
      "metadata": {
        "id": "OQDha19eTS9n"
      },
      "outputs": [],
      "source": [
        ""
      ]
    }
  ],
  "metadata": {
    "kernelspec": {
      "display_name": "Python 3",
      "language": "python",
      "name": "python3"
    },
    "language_info": {
      "codemirror_mode": {
        "name": "ipython",
        "version": 3
      },
      "file_extension": ".py",
      "mimetype": "text/x-python",
      "name": "python",
      "nbconvert_exporter": "python",
      "pygments_lexer": "ipython3",
      "version": "3.6.2+"
    },
    "colab": {
      "name": "NLP_Ababacar_Dioukhané_naive_bayes.ipynb",
      "provenance": [],
      "include_colab_link": true
    }
  },
  "nbformat": 4,
  "nbformat_minor": 0
}